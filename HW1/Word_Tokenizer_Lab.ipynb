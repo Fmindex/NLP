{
 "cells": [
  {
   "cell_type": "markdown",
   "metadata": {},
   "source": [
    "## Word Tokenizer exercise##\n",
    "\n",
    "In this exercise, you are going to build a set of deep learning models on a (sort of) real world task using Tensorflow and Keras. Tensorflow is a deep learning framwork developed by Google, and Keras is a frontend library built on top of Tensorflow (or Theano, CNTK) to provide an easier way to use standard layers and networks.\n",
    "\n",
    "To complete this exercise, you will need to build deep learning models for word tokenization in Thai (แบ่งเว้นวรรคภาษาไทย) using NECTEC's BEST corpus. You will build one model for each of the following type:\n",
    "- Fully Connected (Feedforward) Neural Network\n",
    "- One-Dimentional Convolution Neural Network (1D-CNN)\n",
    "- Recurrent Neural Network with Gated Recurrent Unit (GRU)\n",
    "\n",
    "and one more model of your choice to achieve the highest score possible.\n",
    "\n",
    "We provide the code for data cleaning and some starter code for keras in this notebook but feel free to modify those parts to suit your needs. You can also complete this exercise using only Tensorflow (without using Keras). Feel free to use additional libraries (e.g. scikit-learn) as long as you have a model for each type mentioned above.\n",
    "\n",
    "This notebook assumes you have already installed Tensorflow and Keras with python3 and had GPU enabled. If you run this exercise on GCloud using the provided disk image you are all set.\n",
    "\n",
    "As a reminder,\n",
    "\n",
    "### Don't forget to shut down your instance on Gcloud when you are not using it ###"
   ]
  },
  {
   "cell_type": "code",
   "execution_count": 1,
   "metadata": {
    "collapsed": true
   },
   "outputs": [],
   "source": [
    "# Run setup code\n",
    "import os\n",
    "import numpy as np\n",
    "import pandas as pd\n",
    "import matplotlib.pyplot as plt\n",
    "%matplotlib inline"
   ]
  },
  {
   "cell_type": "code",
   "execution_count": 2,
   "metadata": {
    "collapsed": true
   },
   "outputs": [],
   "source": [
    "# Prepare data\n",
    "# You don't need to run the following code as we already did it for you to give everyone the same dataset\n",
    "# import cattern.data_utils\n",
    "# cattern.data_utils.generate_best_dataset(os.getcwd()+'/data', create_val=True)"
   ]
  },
  {
   "cell_type": "markdown",
   "metadata": {},
   "source": [
    "For simplicity, we are going to build a word tokenization model which is a binary classification model trying to predict whether a character is the begining of the word or not (if it is, then there is a space in front of it) and without using any knowledge about type of character (vowel, number, English character etc.).\n",
    "\n",
    "For example,\n",
    "\n",
    "'แมวดำน่ารักมาก' -> 'แมว ดำ น่า รัก มาก'\n",
    "\n",
    "will have these true labels:\n",
    "\n",
    "[(แ,1), (ม,0), (ว,0) (ด,1), ( ำ,0), (น,1), (-่,0), (า,0), (ร,1), (-ั,0), (ก,0), (ม,1), (า,0), (ก,0)]\n",
    "\n",
    "In this task, we will use only main character you are trying to predict  and the characters that surround it (the context) as features. However, you can imagine that a more complex model will try to include more knowledge about each character into the model. You can do that too if you feel like it."
   ]
  },
  {
   "cell_type": "code",
   "execution_count": 3,
   "metadata": {
    "collapsed": true
   },
   "outputs": [],
   "source": [
    "# Create a character map\n",
    "CHARS = [\n",
    "  '\\n', ' ', '!', '\"', '#', '$', '%', '&', \"'\", '(', ')', '*', '+',\n",
    "  ',', '-', '.', '/', '0', '1', '2', '3', '4', '5', '6', '7', '8',\n",
    "  '9', ':', ';', '<', '=', '>', '?', '@', 'A', 'B', 'C', 'D', 'E',\n",
    "  'F', 'G', 'H', 'I', 'J', 'K', 'L', 'M', 'N', 'O', 'P', 'Q', 'R',\n",
    "  'S', 'T', 'U', 'V', 'W', 'X', 'Y', 'Z', '[', '\\\\', ']', '^', '_',\n",
    "  'a', 'b', 'c', 'd', 'e', 'f', 'g', 'h', 'i', 'j', 'k', 'l', 'm',\n",
    "  'n', 'o', 'other', 'p', 'q', 'r', 's', 't', 'u', 'v', 'w', 'x', 'y',\n",
    "  'z', '}', '~', 'ก', 'ข', 'ฃ', 'ค', 'ฅ', 'ฆ', 'ง', 'จ', 'ฉ', 'ช',\n",
    "  'ซ', 'ฌ', 'ญ', 'ฎ', 'ฏ', 'ฐ', 'ฑ', 'ฒ', 'ณ', 'ด', 'ต', 'ถ', 'ท',\n",
    "  'ธ', 'น', 'บ', 'ป', 'ผ', 'ฝ', 'พ', 'ฟ', 'ภ', 'ม', 'ย', 'ร', 'ฤ',\n",
    "  'ล', 'ว', 'ศ', 'ษ', 'ส', 'ห', 'ฬ', 'อ', 'ฮ', 'ฯ', 'ะ', 'ั', 'า',\n",
    "  'ำ', 'ิ', 'ี', 'ึ', 'ื', 'ุ', 'ู', 'ฺ', 'เ', 'แ', 'โ', 'ใ', 'ไ',\n",
    "  'ๅ', 'ๆ', '็', '่', '้', '๊', '๋', '์', 'ํ', '๐', '๑', '๒', '๓',\n",
    "  '๔', '๕', '๖', '๗', '๘', '๙', '‘', '’', '\\ufeff'\n",
    "]\n",
    "CHARS_MAP = {v: k for k, v in enumerate(CHARS)}"
   ]
  },
  {
   "cell_type": "code",
   "execution_count": 4,
   "metadata": {
    "collapsed": true
   },
   "outputs": [],
   "source": [
    "def create_n_gram_df(df, n_pad):\n",
    "  \"\"\"\n",
    "  Given an input dataframe, create a feature dataframe of shifted characters\n",
    "  Input:\n",
    "  df: timeseries of size (N)\n",
    "  n_pad: the number of context. For a given character at position [idx],\n",
    "    character at position [idx-n_pad/2 : idx+n_pad/2] will be used \n",
    "    as features for that character.\n",
    "  \n",
    "  Output:\n",
    "  dataframe of size (N * n_pad) which each row contains the character, \n",
    "    n_pad_2 characters to the left, and n_pad_2 characters to the right\n",
    "    of that character.\n",
    "  \"\"\"\n",
    "  n_pad_2 = int((n_pad - 1)/2)\n",
    "  for i in range(n_pad_2):\n",
    "      df['char-{}'.format(i+1)] = df['char'].shift(i + 1)\n",
    "      df['char{}'.format(i+1)] = df['char'].shift(-i - 1)\n",
    "  return df[n_pad_2: -n_pad_2]"
   ]
  },
  {
   "cell_type": "code",
   "execution_count": 5,
   "metadata": {
    "collapsed": true
   },
   "outputs": [],
   "source": [
    "def prepare_feature(best_processed_path, option='train'):\n",
    "  \"\"\"\n",
    "  Transform the path to a directory containing processed files \n",
    "  into a feature matrix and output array\n",
    "  Input:\n",
    "  best_processed_path: str, path to a processed version of the BEST dataset\n",
    "  option: str, 'train' or 'test'\n",
    "  \"\"\"\n",
    "  # we use padding equals 21 here to consider 10 characters to the left\n",
    "  # and 10 characters to the right as features for the character in the middle\n",
    "  n_pad = 21\n",
    "  n_pad_2 = int((n_pad - 1)/2)\n",
    "  pad = [{'char': ' ', 'target': True}]\n",
    "  df_pad = pd.DataFrame(pad * n_pad_2)\n",
    "\n",
    "  df = []\n",
    "  # article types in BEST corpus\n",
    "  article_types = ['article', 'encyclopedia', 'news', 'novel']\n",
    "  for article_type in article_types:\n",
    "      df.append(pd.read_csv(os.path.join(best_processed_path, option, 'df_best_{}_{}.csv'.format(article_type, option))))\n",
    "  \n",
    "  df = pd.concat(df)\n",
    "  # pad with empty string feature\n",
    "  df = pd.concat((df_pad, df, df_pad))\n",
    "\n",
    "  # map characters to numbers, use 'other' if not in the predefined character set.\n",
    "  df['char'] = df['char'].map(lambda x: CHARS_MAP.get(x, 80))\n",
    "\n",
    "  # Use nearby characters as features\n",
    "  df_with_context = create_n_gram_df(df, n_pad=n_pad)\n",
    "\n",
    "  char_row = ['char' + str(i + 1) for i in range(n_pad_2)] + \\\n",
    "             ['char-' + str(i + 1) for i in range(n_pad_2)] + ['char']\n",
    "\n",
    "  # convert pandas dataframe to numpy array to feed to the model\n",
    "  x_char = df_with_context[char_row].as_matrix()\n",
    "  y = df_with_context['target'].astype(int).as_matrix()\n",
    "\n",
    "  return x_char, y"
   ]
  },
  {
   "cell_type": "markdown",
   "metadata": {},
   "source": [
    "Before running the following commands, we must inform you that our data is quite large and loading the whole dataset at once will **use a lot of memory (~6 GB after processing and up to ~12GB while processing)**. We expect you to be running this on Google Cloud so that you will not run into this problem. But, if, for any reason, you have to run this on your PC or machine with not enough memory, you might need to write a data generator to process a few entries at a time then feed it to the model while training.\n",
    "\n",
    "For keras, you can use [fit_generator](https://keras.io/getting-started/faq/#how-can-i-use-keras-with-datasets-that-dont-fit-in-memory) to cope with that."
   ]
  },
  {
   "cell_type": "code",
   "execution_count": 6,
   "metadata": {
    "collapsed": true
   },
   "outputs": [],
   "source": [
    "# Path to the preprocessed data\n",
    "best_processed_path = '~/corpora/BEST'"
   ]
  },
  {
   "cell_type": "code",
   "execution_count": 7,
   "metadata": {
    "collapsed": false
   },
   "outputs": [
    {
     "name": "stdout",
     "output_type": "stream",
     "text": [
      "Training data shape:  (16461637, 21)\n",
      "Training data labels shape:  (16461637,)\n",
      "Validation data shape:  (2035694, 21)\n",
      "Validation data labels shape:  (2035694,)\n",
      "Test data shape:  (2271932, 21)\n",
      "Test data labels shape:  (2271932,)\n"
     ]
    }
   ],
   "source": [
    "# Load preprocessed BEST corpus\n",
    "x_train_char, y_train = prepare_feature(best_processed_path, option='train')\n",
    "x_val_char, y_val = prepare_feature(best_processed_path, option='val')\n",
    "x_test_char, y_test = prepare_feature(best_processed_path, option='test')\n",
    "\n",
    "# As a sanity check, we print out the size of the training, val, and test data.\n",
    "print('Training data shape: ', x_train_char.shape)\n",
    "print('Training data labels shape: ', y_train.shape)\n",
    "print('Validation data shape: ', x_val_char.shape)\n",
    "print('Validation data labels shape: ', y_val.shape)\n",
    "print('Test data shape: ', x_test_char.shape)\n",
    "print('Test data labels shape: ', y_test.shape)"
   ]
  },
  {
   "cell_type": "code",
   "execution_count": 8,
   "metadata": {
    "collapsed": false
   },
   "outputs": [
    {
     "name": "stdout",
     "output_type": "stream",
     "text": [
      "First 3 features:  [[ 112.  140.  114.  148.  130.  142.   94.  142.  128.  128.    1.    1.\n",
      "     1.    1.    1.    1.    1.    1.    1.    1.   97.]\n",
      " [ 140.  114.  148.  130.  142.   94.  142.  128.  128.  141.   97.    1.\n",
      "     1.    1.    1.    1.    1.    1.    1.    1.  112.]\n",
      " [ 114.  148.  130.  142.   94.  142.  128.  128.  141.  109.  112.   97.\n",
      "     1.    1.    1.    1.    1.    1.    1.    1.  140.]]\n",
      "First 30 class labels [1 0 0 0 0 0 0 0 0 0 0 0 0 0 0 0 0 0 0 0 1 0 0 1 0 0 0 1 0 0]\n"
     ]
    }
   ],
   "source": [
    "# Print some entry from the data to make sure it is the same as what you think.\n",
    "print('First 3 features: ', x_train_char[:3])\n",
    "print('First 30 class labels', y_train[:30])"
   ]
  },
  {
   "cell_type": "code",
   "execution_count": 9,
   "metadata": {
    "collapsed": false,
    "scrolled": false
   },
   "outputs": [
    {
     "name": "stdout",
     "output_type": "stream",
     "text": [
      "ค:  ค ณะตุลาการร\tpred = 1\n",
      "ณ: ค ณ ะตุลาการรั\tpred = 0\n",
      "ะ: คณ ะ ตุลาการรัฐ\tpred = 0\n",
      "ต: คณะ ต ุลาการรัฐธ\tpred = 0\n",
      "ุ: คณะต ุ ลาการรัฐธร\tpred = 0\n",
      "ล: คณะตุ ล าการรัฐธรร\tpred = 0\n",
      "า: คณะตุล า การรัฐธรรม\tpred = 0\n",
      "ก: คณะตุลา ก ารรัฐธรรมน\tpred = 0\n",
      "า: คณะตุลาก า รรัฐธรรมนู\tpred = 0\n",
      "ร: คณะตุลากา ร รัฐธรรมนูญ\tpred = 0\n",
      "ร: คณะตุลาการ ร ัฐธรรมนูญก\tpred = 0\n",
      "ั: ณะตุลาการร ั ฐธรรมนูญกั\tpred = 0\n",
      "ฐ: ะตุลาการรั ฐ ธรรมนูญกับ\tpred = 0\n",
      "ธ: ตุลาการรัฐ ธ รรมนูญกับค\tpred = 0\n",
      "ร: ุลาการรัฐธ ร รมนูญกับคว\tpred = 0\n",
      "ร: ลาการรัฐธร ร มนูญกับควา\tpred = 0\n",
      "ม: าการรัฐธรร ม นูญกับความ\tpred = 0\n",
      "น: การรัฐธรรม น ูญกับความเ\tpred = 0\n",
      "ู: ารรัฐธรรมน ู ญกับความเป\tpred = 0\n",
      "ญ: รรัฐธรรมนู ญ กับความเป็\tpred = 0\n",
      "ก: รัฐธรรมนูญ ก ับความเป็น\tpred = 1\n",
      "ั: ัฐธรรมนูญก ั บความเป็นอ\tpred = 0\n",
      "บ: ฐธรรมนูญกั บ ความเป็นอง\tpred = 0\n",
      "ค: ธรรมนูญกับ ค วามเป็นองค\tpred = 1\n",
      "ว: รรมนูญกับค ว ามเป็นองค์\tpred = 0\n",
      "า: รมนูญกับคว า มเป็นองค์ก\tpred = 0\n",
      "ม: มนูญกับควา ม เป็นองค์กร\tpred = 0\n",
      "เ: นูญกับความ เ ป็นองค์กรต\tpred = 1\n",
      "ป: ูญกับความเ ป ็นองค์กรตุ\tpred = 0\n",
      "็: ญกับความเป ็ นองค์กรตุล\tpred = 0\n"
     ]
    }
   ],
   "source": [
    "#print char of feature 1\n",
    "char = np.array(CHARS)\n",
    "\n",
    "#A function for displaying our features in text\n",
    "def print_features(tfeature,label,index):\n",
    "    feature = np.array(tfeature[index],dtype=int).reshape(21,1)\n",
    "    #Convert to string\n",
    "    char_list = char[feature]\n",
    "    left = ''.join(reversed(char_list[10:20].reshape(10))).replace(\" \", \"\")\n",
    "    center = ''.join(char_list[20])\n",
    "    right =  ''.join(char_list[0:10].reshape(10)).replace(\" \", \"\")\n",
    "    word = ''.join([left,' ',center,' ',right])\n",
    "    print(center + ': ' + word + \"\\tpred = \"+str(label[index]))\n",
    "\n",
    "for ind in range(0,30):\n",
    "    print_features(x_train_char,y_train,ind)"
   ]
  },
  {
   "cell_type": "markdown",
   "metadata": {},
   "source": [
    "Now, you are going to define the model to be used as your classifier. If you are using Keras, please follow the guideline we provide below. We encourage you to use the Keras Funtional API instead of the Sequential model as it is easier to create complex models (and to read your code). You can find more about Keras Functional API on Keras [documentation](https://keras.io/getting-started/functional-api-guide/).\n",
    "\n",
    "You need to create a function that return a model you want and write code that invoke _**model.fit**_ to train your model. For example, your function ***get_nn()*** might looks like this:\n",
    "\n",
    "```python\n",
    "def get_nn():\n",
    "  input1 = Input(...)\n",
    "  ...\n",
    "  # Create your wonderful model.\n",
    "  ...\n",
    "  out = ...\n",
    "  model = Model(inputs=input1, outputs=out)\n",
    "  model.compile(...)\n",
    "return model\n",
    "```\n",
    "\n",
    "Also, beware that complex model requires more time to train and your dataset is already quite large. We tested it with a simple 1-hidden-layered feedforward nueral network and it used ~10 mins to train 1 epoch. It got more than 95% accuracy on validation set after the first epoch, so you should aim for a model with accuracy around 96-98%."
   ]
  },
  {
   "cell_type": "markdown",
   "metadata": {},
   "source": [
    "# Three-Layer Feedforward Neural Networks\n",
    "\n",
    "Below, we provide you the code for creating a 3-layer fully connected neural network in keras. This will also serve as the baseline for your other models. Run the code below while making sure you understand what you are doing. Then, report the results."
   ]
  },
  {
   "cell_type": "code",
   "execution_count": 24,
   "metadata": {
    "collapsed": false
   },
   "outputs": [],
   "source": [
    "from keras.models import Model\n",
    "from keras.layers import Input, Dense\n",
    "from keras.optimizers import Adam\n",
    "\n",
    "def get_feedforward_nn():\n",
    "  input1 = Input(shape=(21,))\n",
    "  x = Dense(100, activation='relu')(input1)\n",
    "  x = Dense(100, activation='relu')(x)\n",
    "  x = Dense(100, activation='relu')(x)\n",
    "  out = Dense(1, activation='sigmoid')(x)\n",
    "\n",
    "  model = Model(inputs=input1, outputs=out)\n",
    "  model.compile(optimizer=Adam(),\n",
    "                loss='binary_crossentropy',\n",
    "                metrics=['acc'])\n",
    "  return model"
   ]
  },
  {
   "cell_type": "code",
   "execution_count": 24,
   "metadata": {
    "collapsed": false,
    "scrolled": false
   },
   "outputs": [
    {
     "name": "stdout",
     "output_type": "stream",
     "text": [
      "start training\n",
      "train with 3 epochs and 512 batch size\n",
      "Train on 16461637 samples, validate on 2035694 samples\n",
      "Epoch 1/3\n",
      "16459776/16461637 [============================>.] - ETA: 0s - loss: 4.3950 - acc: 0.7273Epoch 00000: val_loss improved from inf to 4.39020, saving model to /data/model_weight_feedforward_nn2.h5\n",
      "16461637/16461637 [==============================] - 844s - loss: 4.3950 - acc: 0.7273 - val_loss: 4.3902 - val_acc: 0.7276\n",
      "Epoch 2/3\n",
      "16460800/16461637 [============================>.] - ETA: 0s - loss: 4.3886 - acc: 0.7277Epoch 00001: val_loss did not improve\n",
      "16461637/16461637 [==============================] - 844s - loss: 4.3886 - acc: 0.7277 - val_loss: 4.3902 - val_acc: 0.7276\n",
      "Epoch 3/3\n",
      "16457216/16461637 [============================>.] - ETA: 0s - loss: 4.3886 - acc: 0.7277Epoch 00002: val_loss did not improve\n",
      "16461637/16461637 [==============================] - 846s - loss: 4.3886 - acc: 0.7277 - val_loss: 4.3902 - val_acc: 0.7276\n"
     ]
    }
   ],
   "source": [
    "from keras.callbacks import ModelCheckpoint, TensorBoard\n",
    "\n",
    "# This is called to clear the original model session in order to use TensorBoard\n",
    "from keras import backend as K\n",
    "K.clear_session()\n",
    "\n",
    "# Path to save model parameters\n",
    "weight_path_feedforward_nn='/data/model_weight_feedforward_nn2.h5'\n",
    "\n",
    "# Training callbacks list. TensorBoard() write logs for tensorboard GUI. \n",
    "# ModelCheckpoint() writes the resulting model.\n",
    "# Note that writing to disk takes time (longer than model training time). \n",
    "# For other sections, you might not writing any files to disk \n",
    "# or write only the graph for TensorBoard.\n",
    "callbacks_list_feedforward_nn = [\n",
    "        TensorBoard(log_dir='/data/Graph/ff2', histogram_freq=1, write_graph=True, write_grads=True),\n",
    "        ModelCheckpoint(\n",
    "            weight_path_feedforward_nn,\n",
    "            save_best_only=True,\n",
    "            save_weights_only=True,\n",
    "            monitor='val_loss',\n",
    "            mode='min',\n",
    "            verbose=1\n",
    "        )\n",
    "  ]\n",
    "\n",
    "print('start training')\n",
    "verbose = 1\n",
    "model_feedforward_nn = get_feedforward_nn()\n",
    "train_params = [(3, 512)]\n",
    "for (epochs, batch_size) in train_params:\n",
    "  print(\"train with {} epochs and {} batch size\".format(epochs, batch_size))\n",
    "  model_feedforward_nn.fit(x_train_char, y_train, epochs=epochs, batch_size=batch_size, verbose=verbose,\n",
    "                           callbacks=callbacks_list_feedforward_nn,\n",
    "                           validation_data=(x_val_char, y_val))"
   ]
  },
  {
   "cell_type": "code",
   "execution_count": 11,
   "metadata": {
    "collapsed": false
   },
   "outputs": [
    {
     "name": "stdout",
     "output_type": "stream",
     "text": [
      "_________________________________________________________________\n",
      "Layer (type)                 Output Shape              Param #   \n",
      "=================================================================\n",
      "input_1 (InputLayer)         (None, 21)                0         \n",
      "_________________________________________________________________\n",
      "dense_1 (Dense)              (None, 100)               2200      \n",
      "_________________________________________________________________\n",
      "dense_2 (Dense)              (None, 100)               10100     \n",
      "_________________________________________________________________\n",
      "dense_3 (Dense)              (None, 100)               10100     \n",
      "_________________________________________________________________\n",
      "dense_4 (Dense)              (None, 1)                 101       \n",
      "=================================================================\n",
      "Total params: 22,501\n",
      "Trainable params: 22,501\n",
      "Non-trainable params: 0\n",
      "_________________________________________________________________\n"
     ]
    }
   ],
   "source": [
    "################################################################################\n",
    "# In case you want to close the session, you can re-load the model by          #\n",
    "################################################################################\n",
    "weight_path_feedforward_nn='/data/model_weight_feedforward_nn2.h5'\n",
    "model_feedforward_nn = get_feedforward_nn()\n",
    "model_feedforward_nn.load_weights(weight_path_feedforward_nn)\n",
    "model_feedforward_nn._make_predict_function()\n",
    "model_feedforward_nn.summary()"
   ]
  },
  {
   "cell_type": "code",
   "execution_count": 10,
   "metadata": {
    "collapsed": true
   },
   "outputs": [],
   "source": [
    "from sklearn.metrics import f1_score,precision_score,recall_score\n",
    "\n",
    "################################################################################\n",
    "# Write a function to evaluate your model. Your function must make prediction  #\n",
    "# using the input model and return f-score, precision, and recall of the model.#\n",
    "# You can make predictions by calling model.predict().                         #\n",
    "################################################################################\n",
    "def evaluate(x_test, y_test, model):\n",
    "    \"\"\"\n",
    "    Evaluate model on the splitted 10 percent testing set.\n",
    "    \"\"\"\n",
    "    y_pred = model.predict(x_test)\n",
    "\n",
    "    #map probability to class\n",
    "    prob_to_class = lambda p: 1 if p[0]>=0.5 else 0\n",
    "    y_pred = np.apply_along_axis(prob_to_class,1,y_pred)\n",
    "\n",
    "    f1score = f1_score(y_test,y_pred)\n",
    "    precision = precision_score(y_test,y_pred)\n",
    "    recall = recall_score(y_test,y_pred)\n",
    "    return f1score, precision, recall"
   ]
  },
  {
   "cell_type": "code",
   "execution_count": 17,
   "metadata": {
    "collapsed": false
   },
   "outputs": [
    {
     "data": {
      "text/plain": [
       "(0.81681757155550938, 0.83902145725454402, 0.79575859536051941)"
      ]
     },
     "execution_count": 17,
     "metadata": {},
     "output_type": "execute_result"
    }
   ],
   "source": [
    "evaluate(x_test_char, y_test, model_feedforward_nn)"
   ]
  },
  {
   "cell_type": "markdown",
   "metadata": {},
   "source": [
    "# Debugging\n",
    "\n",
    "In order to understand what is going on in your model and where the error is, you should try looking at the inputs your model made wrong predictions.\n",
    "\n",
    "In this task, write a function to print the characters on test data that got wrong prediction along with its context of size 10 (from [x-10] to [x+10]). Examine a fews of those and write your assumption on where the model got wrong prediction."
   ]
  },
  {
   "cell_type": "code",
   "execution_count": 18,
   "metadata": {
    "collapsed": false,
    "scrolled": true
   },
   "outputs": [],
   "source": [
    "# TODO#1\n",
    "# Write code to show a few of the errors the models made.\n",
    "y_pred = model_feedforward_nn.predict(x_test_char)\n",
    "false_pred = []\n",
    "prob_to_class = lambda p: 1 if p[0]>=0.5 else 0\n",
    "y_pred = np.apply_along_axis(prob_to_class,1,y_pred)\n",
    "\n",
    "for i in range(len(y_pred)):\n",
    "    if(y_pred[i] != y_test[i]):\n",
    "        false_pred.append(i)\n",
    "\n",
    "pass"
   ]
  },
  {
   "cell_type": "code",
   "execution_count": 19,
   "metadata": {
    "collapsed": false,
    "scrolled": false
   },
   "outputs": [
    {
     "name": "stdout",
     "output_type": "stream",
     "text": [
      "2271932\n",
      "225946\n",
      "9 0\n",
      "ศ: ปฏิรูปการ ศ ึกษา:มุม\tpred = 1\n",
      "32 0\n",
      "ท: งทางกระบวน ท ัศน์และบริ\tpred = 1\n",
      "40 0\n",
      "บ: วนทัศน์และ บ ริบทสังคมไ\tpred = 1\n",
      "50 0\n",
      "ไ: บริบทสังคม ไ ทยTheRefo\tpred = 1\n",
      "104 0\n",
      "ก: erspective ก ระบวนทัศน์\tpred = 1\n",
      "122 0\n",
      "ค: ศน์และวิธี ค ิดแบบแยกส่\tpred = 1\n",
      "125 0\n",
      "แ: และวิธีคิด แ บบแยกส่วน\tpred = 1\n",
      "127 1\n",
      "บ: ะวิธีคิดแบ บ แยกส่วนลด\tpred = 0\n",
      "128 0\n",
      "แ: วิธีคิดแบบ แ ยกส่วนลดส\tpred = 1\n",
      "130 1\n",
      "ก: ธีคิดแบบแย ก ส่วนลดส่ว\tpred = 0\n",
      "138 0\n",
      "ส: แยกส่วนลด ส ่วนได้ทำใ\tpred = 1\n",
      "160 0\n",
      "เ: ้\"การศึกษา เ รียนรู้\"ใน\tpred = 1\n",
      "165 1\n",
      "ร: ศึกษาเรียน ร ู้\"ในหลาย\tpred = 0\n",
      "176 0\n",
      "ท: ู้\"ในหลาย ท ศวรรษที่ผ่\tpred = 1\n",
      "222 1\n",
      "น: วิชาการด้า น ศึกษาศาสตร\tpred = 0\n",
      "288 1\n",
      "ง: รย์กระทรว ง ศึกษาธิการ\tpred = 0\n",
      "291 1\n",
      "ก: กระทรวงศึ ก ษาธิการทบ\tpred = 0\n",
      "293 1\n",
      "า: ระทรวงศึกษ า ธิการทบวง\tpred = 0\n",
      "304 1\n",
      "ม: ธิการทบวง ม หาวิทยาลัย\tpred = 0\n",
      "319 0\n",
      "อ: ทยาลัยฯมา อ ย่างต่อเนื\tpred = 1\n",
      "327 1\n",
      "เ: มาอย่างต่อ เ นื่องยาวนา\tpred = 0\n",
      "336 1\n",
      "น: อเนื่องยาว น าน(เหมือน\tpred = 0\n",
      "386 0\n",
      "โ: องแพทย์และ โ รงพยาบาล)\tpred = 1\n",
      "400 0\n",
      "จ: ยาบาล)การ จ ัดการศึกษา\tpred = 1\n",
      "411 0\n",
      "ภ: ัดการศึกษา ภ ายใต้กระบว\tpred = 1\n",
      "423 0\n",
      "ท: ยใต้กระบวน ท ัศน์และวิธ\tpred = 1\n",
      "435 0\n",
      "ค: ศน์และวิธี ค ิดแบบดังกล\tpred = 1\n",
      "438 0\n",
      "แ: และวิธีคิด แ บบดังกล่าว\tpred = 1\n",
      "462 0\n",
      "ว: รัฐได้ถูก ว ิพากษ์วิจา\tpred = 1\n",
      "471 1\n",
      "จ: กวิพากษ์วิ จ ารณ์และตกเ\tpred = 0\n",
      "479 0\n",
      "ต: วิจารณ์และ ต กเป็นจำเลย\tpred = 1\n",
      "506 0\n",
      "ส: ฤตการณ์ทาง ส ังคมมากมาย\tpred = 1\n",
      "509 1\n",
      "ค: ารณ์ทางสัง ค มมากมายอั\tpred = 0\n",
      "511 0\n",
      "ม: ณ์ทางสังคม ม ากมายอันส\tpred = 1\n",
      "521 0\n",
      "ส: มากมายอัน ส ะท้อนถึงคว\tpred = 1\n",
      "523 1\n",
      "ท: กมายอันสะ ท ้อนถึงความ\tpred = 0\n",
      "534 0\n",
      "ล: ้อนถึงความ ล ้มเหลวของก\tpred = 1\n",
      "566 1\n",
      "น: ษาเพื่อพัฒ น ามนุษย์(ป\tpred = 0\n",
      "568 0\n",
      "ม: เพื่อพัฒนา ม นุษย์(ปัญ\tpred = 1\n",
      "579 1\n",
      "ห: นุษย์(ปัญ ห าศีลธรรมเส\tpred = 0\n",
      "581 0\n",
      "ศ: ษย์(ปัญหา ศ ีลธรรมเสื่\tpred = 1\n",
      "594 1\n",
      "ถ: ธรรมเสื่อม ถ อยยาเสพติ\tpred = 0\n",
      "600 0\n",
      "เ: ื่อมถอยยา เ สพติดการข\tpred = 1\n",
      "610 0\n",
      "ข: เสพติดการ ข าดจิตสำนึก\tpred = 1\n",
      "613 0\n",
      "จ: ติดการขาด จ ิตสำนึกทาง\tpred = 1\n",
      "616 0\n",
      "ส: การขาดจิต ส ำนึกทางสัง\tpred = 1\n",
      "617 1\n",
      "ำ: การขาดจิตส ำ นึกทางสังค\tpred = 0\n",
      "621 0\n",
      "ท: าดจิตสำนึก ท างสังคมฯล\tpred = 1\n",
      "642 1\n",
      "ค: ฯ)ซึ่งสัง ค มร่วมกันสร\tpred = 0\n",
      "651 0\n",
      "ส: งคมร่วมกัน ส รุปว่าเกิ\tpred = 1\n"
     ]
    }
   ],
   "source": [
    "print(len(y_test))\n",
    "print(len(false_pred))\n",
    "for i in range(50):\n",
    "    print(false_pred[i], y_pred[false_pred[i]])\n",
    "    print_features(x_test_char,y_test,false_pred[i])"
   ]
  },
  {
   "cell_type": "markdown",
   "metadata": {},
   "source": [
    "# Write your answer here\n",
    "\n",
    "**Your answer**: TODO#2\n",
    "\n",
    "1. Model is trying to tokenize subword. \n",
    "2. Model doesn't know about position in the sequence. The model try to predict every characters that are in the context of starting characters as starting characters even if it break Linguistics' rules."
   ]
  },
  {
   "cell_type": "markdown",
   "metadata": {},
   "source": [
    "# Tensorboard #\n",
    "The code provided also have Tensorboard (a visualization tool that comes with Tensorflow). Note the part that calls it `TensorBoard(log_dir='./Graph/' + graph_name, histogram_freq=1, write_graph=True, write_grads=True)`. This tells Tensorflow to write extra outputs to the `log_dir` which can then be used for visualization.\n",
    "\n",
    "To start tensorboard do\n",
    "```\n",
    "tensorboard --logdir=/full_path_to_your_logs\n",
    "```\n",
    "from the commandline. This will launch tensorboard, you will be able to access it from a web browser by pointint the url to `<instance-ip>:6006`. You will need to enable additional firewall rules in Gcloud for this.\n",
    "\n",
    "In Tensorboard, you will be able to debug your computation graph which can be hard to keep track in code. This is might seem trivial in Keras, but it is very helpful for Tensorflow. You can see a visualization of the computation graph at the `GRAPH` tab. If you see multiple dense layers (more than 4), this is caused by running the code several times without deleting the log dir. Delete the log dir and re-run the code.\n",
    "\n",
    "Next, let's look at the scalars tab, we can see the loss and accuracy on the training and validation set as they change over each epoch. This can be useful to detect overfitting.\n",
    "\n",
    "Another useful tab is the histograms tab. This plot histograms of the weights, biases, and outputs of each layer. The depth of the histograms show the change over epochs. We can see how the histograms of weights change over the training peroid. This can be used to debug vanishing gradients or getting stuck in local minimas.\n",
    "\n",
    "There are other useful tabs in Tensorboard, you can read about them in the Keras [documentation](https://keras.io/callbacks/#tensorboard) for tensorboard."
   ]
  },
  {
   "cell_type": "markdown",
   "metadata": {},
   "source": [
    "# Tensorboard observation\n",
    "\n",
    "Write your own interpretation of the logs from this example. A simple sentence or two for each tab is sufficient.\n",
    "\n",
    "**Your answer**: TODO#3\n",
    "\n",
    "Scalars: \n",
    "\n",
    "    Training of model is well going. Accuracy is increasing. Loss is decreasing.\n",
    "\n",
    "Graph:\n",
    "\n",
    "    Graph is look like what it should be. There are 3 hidden dense layers in the model and 1 dense out put layer.\n",
    "\n",
    "Histrogram:\n",
    "    \n",
    "    Bias histrogram is seperate in to 3 group. Thus, there 3 group of characters affection to tokenization ."
   ]
  },
  {
   "cell_type": "markdown",
   "metadata": {},
   "source": [
    "# Dropout\n",
    "\n",
    "You might notice that the 3-layered feedforward does not use dropout at all. Now, try adding dropout to the model, run, and report the result again."
   ]
  },
  {
   "cell_type": "code",
   "execution_count": 20,
   "metadata": {
    "collapsed": true
   },
   "outputs": [],
   "source": [
    "# TODO#4\n",
    "# Write a function that return feedforward model with dropout\n",
    "from keras.layers import Dropout\n",
    "\n",
    "def get_nn_with_dropout():\n",
    "    \n",
    "    rate = 0.1\n",
    "    \n",
    "    input1 = Input(shape=(21,))\n",
    "    x = Dense(100, activation='relu')(input1)\n",
    "    x = Dropout(rate)(x)\n",
    "    x = Dense(100, activation='relu')(x)\n",
    "    x = Dropout(rate)(x)\n",
    "    x = Dense(100, activation='relu')(x)\n",
    "    x = Dropout(rate)(x)\n",
    "    out = Dense(1, activation='sigmoid')(x)\n",
    "\n",
    "    model = Model(inputs=input1, outputs=out)\n",
    "    model.compile(optimizer=Adam(),\n",
    "                loss='binary_crossentropy',\n",
    "                metrics=['acc'])\n",
    "    return model"
   ]
  },
  {
   "cell_type": "code",
   "execution_count": 21,
   "metadata": {
    "collapsed": false
   },
   "outputs": [
    {
     "name": "stdout",
     "output_type": "stream",
     "text": [
      "start training\n",
      "Train on 16461637 samples, validate on 2035694 samples\n",
      "Epoch 1/3\n",
      "16460288/16461637 [============================>.] - ETA: 0s - loss: 0.3750 - acc: 0.8353Epoch 00000: val_loss improved from inf to 0.31560, saving model to /data/model_nn_with_dropout.h5\n",
      "16461637/16461637 [==============================] - 388s - loss: 0.3750 - acc: 0.8353 - val_loss: 0.3156 - val_acc: 0.8624\n",
      "Epoch 2/3\n",
      "16460800/16461637 [============================>.] - ETA: 0s - loss: 0.3266 - acc: 0.8573Epoch 00001: val_loss improved from 0.31560 to 0.29016, saving model to /data/model_nn_with_dropout.h5\n",
      "16461637/16461637 [==============================] - 397s - loss: 0.3266 - acc: 0.8573 - val_loss: 0.2902 - val_acc: 0.8746\n",
      "Epoch 3/3\n",
      "16459264/16461637 [============================>.] - ETA: 0s - loss: 0.3118 - acc: 0.8650Epoch 00002: val_loss improved from 0.29016 to 0.27858, saving model to /data/model_nn_with_dropout.h5\n",
      "16461637/16461637 [==============================] - 399s - loss: 0.3118 - acc: 0.8650 - val_loss: 0.2786 - val_acc: 0.8810\n"
     ]
    },
    {
     "data": {
      "text/plain": [
       "<keras.callbacks.History at 0x7ff64a0eba90>"
      ]
     },
     "execution_count": 21,
     "metadata": {},
     "output_type": "execute_result"
    }
   ],
   "source": [
    "# Train your model\n",
    "print('start training')\n",
    "verbose = 2\n",
    "model_nn_with_dropout = get_nn_with_dropout()\n",
    "# TODO#5\n",
    "# Complete the code to train your model with dropout\n",
    "################################################################################\n",
    "#                            WRITE YOUR CODE BELOW                             #\n",
    "################################################################################\n",
    "# Path to save model parameters\n",
    "\n",
    "weight_path_model_nn_with_dropout='/data/model_nn_with_dropout.h5'\n",
    "callbacks_list_nn_with_dropout = [\n",
    "       TensorBoard(log_dir='/data/Graph/ffdo', histogram_freq=1, write_graph=True),\n",
    "        ModelCheckpoint(\n",
    "            weight_path_model_nn_with_dropout,\n",
    "            save_best_only=True,\n",
    "            save_weights_only=True,\n",
    "            monitor='val_loss',\n",
    "            mode='min',\n",
    "            verbose=1\n",
    "        )\n",
    "  ]\n",
    "\n",
    "verbose = 1\n",
    "epochs,batch_size = [3,512]\n",
    "model_nn_with_dropout.fit(x_train_char, y_train, epochs=epochs, batch_size=batch_size, verbose=verbose,\n",
    "                           callbacks=callbacks_list_nn_with_dropout,validation_data=(x_val_char, y_val))\n"
   ]
  },
  {
   "cell_type": "code",
   "execution_count": 22,
   "metadata": {
    "collapsed": false
   },
   "outputs": [
    {
     "data": {
      "text/plain": [
       "(0.77573408312194592, 0.83848761302802233, 0.72171962498716524)"
      ]
     },
     "execution_count": 22,
     "metadata": {},
     "output_type": "execute_result"
    }
   ],
   "source": [
    "evaluate(x_test_char, y_test, model_nn_with_dropout)"
   ]
  },
  {
   "cell_type": "markdown",
   "metadata": {},
   "source": [
    "# Convolution Neural Networks\n",
    "\n",
    "Now, you are going to implement you own 1d-convolution neural networks with the following structure:\n",
    "input -> embedding layer (size 32) -> 1D-convolution layer (100 filters of size 5, strides of 1) -> TimeDistributed (Dense size 5) -> fully-connected layer (size 100) -> output.\n",
    "\n",
    "These parameters are simple guidelines to save your time. You can play with them in the final section.\n",
    "\n",
    "The results should be better than the feedforward model.\n",
    "\n",
    "Embedding layers turn the input from a one-hot vector into better representations via some feature transform (a simple matrix multiply in this case). TimeDistributed is Keras' way of specifying that the layer of the network should be distributed along time (the first dimension) as shown in the picture below.\n",
    "\n",
    "<img src=\"https://raw.githubusercontent.com/ekapolc/nlp_course/master/HW1/images/configuration.png\">\n",
    "\n",
    "Note you need to flatten() before the final fully connected layer because of dimension mis-match.\n",
    "\n",
    "Do consult keras documentation on how to use [embedding layers](https://keras.io/layers/embeddings/) and [1D-cnn](https://keras.io/layers/convolutional/).\n"
   ]
  },
  {
   "cell_type": "code",
   "execution_count": 71,
   "metadata": {
    "collapsed": false
   },
   "outputs": [],
   "source": [
    "################################################################################\n",
    "# TODO#6:                                                                      #\n",
    "# Write a function that returns keras convolution nueral network model.        #\n",
    "# You can choose any normalization methods, activation function, as well as    #\n",
    "# any hyperparameter the way you want. Your goal is to predict a score         #\n",
    "# between [0,1] for each input whether it is the beginning of the word or not. #\n",
    "#                                                                              #\n",
    "# Hint: You should read keras documentation to see the list of available       #\n",
    "# layers and options you can use.                                              #\n",
    "################################################################################\n",
    "\n",
    "from keras.layers import Conv1D, Embedding, TimeDistributed, Flatten, Dense\n",
    "\n",
    "def get_conv1d_nn():\n",
    "    input1 = Input(shape=(21,))\n",
    "    x = Embedding(178,32)(input1)\n",
    "    x = Conv1D(100,5,strides=1,activation='relu',padding=\"same\")(x)\n",
    "    x = TimeDistributed(Dense(5))(x)\n",
    "    x = Flatten()(x)\n",
    "    x = Dense(100, activation='relu')(x)\n",
    "    out = Dense(1, activation='sigmoid')(x)\n",
    "\n",
    "    model = Model(inputs=input1, outputs=out)\n",
    "    model.compile(optimizer=Adam(),\n",
    "                loss='binary_crossentropy',\n",
    "                metrics=['acc'])\n",
    "\n",
    "    return model"
   ]
  },
  {
   "cell_type": "code",
   "execution_count": 75,
   "metadata": {
    "collapsed": false
   },
   "outputs": [
    {
     "name": "stdout",
     "output_type": "stream",
     "text": [
      "start training conv1d\n",
      "Train on 16461637 samples, validate on 2035694 samples\n",
      "Epoch 1/3\n",
      "Epoch 00000: val_loss improved from inf to 0.07650, saving model to /data/model_conv1d_nn.h5\n",
      "116s - loss: 0.1028 - acc: 0.9593 - val_loss: 0.0765 - val_acc: 0.9712\n",
      "Epoch 2/3\n",
      "Epoch 00001: val_loss improved from 0.07650 to 0.06786, saving model to /data/model_conv1d_nn.h5\n",
      "117s - loss: 0.0670 - acc: 0.9748 - val_loss: 0.0679 - val_acc: 0.9747\n",
      "Epoch 3/3\n",
      "Epoch 00002: val_loss improved from 0.06786 to 0.06541, saving model to /data/model_conv1d_nn.h5\n",
      "117s - loss: 0.0609 - acc: 0.9774 - val_loss: 0.0654 - val_acc: 0.9756\n"
     ]
    },
    {
     "data": {
      "text/plain": [
       "<keras.callbacks.History at 0x7f0968c81710>"
      ]
     },
     "execution_count": 75,
     "metadata": {},
     "output_type": "execute_result"
    }
   ],
   "source": [
    "from keras import backend as K\n",
    "K.clear_session()\n",
    "################################################################################\n",
    "# TODO#7:                                                                      #\n",
    "# Write code that call model.fit, or model.fit_generator if you have data      #\n",
    "# generator, to train you models. Make sure you have validation_data as an     # \n",
    "# argument and use verbose=2 to generate one log line per epoch. Select your   #\n",
    "# batch size carefully as it will affect your model's ability to converge and  #\n",
    "# time needed for one epoch.                                                   #\n",
    "################################################################################\n",
    "print('start training conv1d')\n",
    "model_conv1d_nn = get_conv1d_nn()\n",
    "################################################################################\n",
    "#                            WRITE YOUR CODE BELOW                             #\n",
    "################################################################################\n",
    "from keras.callbacks import ModelCheckpoint, TensorBoard\n",
    "\n",
    "\n",
    "weight_path_model_conv1d_nn='/data/model_conv1d_nn.h5'\n",
    "\n",
    "callbacks_list_model_conv1d_nn = [\n",
    "        #TensorBoard(log_dir='/data/Graph/conv1d', histogram_freq=1, write_graph=True),\n",
    "        ModelCheckpoint(\n",
    "            weight_path_model_conv1d_nn,\n",
    "            save_best_only=True,\n",
    "            save_weights_only=True,\n",
    "            monitor='val_loss',\n",
    "            mode='min',\n",
    "            verbose=1\n",
    "        )\n",
    "  ]\n",
    "\n",
    "verbose = 2\n",
    "epochs,batch_size = [3,4196]\n",
    "model_conv1d_nn.fit(x_train_char, y_train, epochs=epochs, batch_size=batch_size, verbose=verbose,\n",
    "                           callbacks=callbacks_list_model_conv1d_nn,validation_data=(x_val_char, y_val))\n"
   ]
  },
  {
   "cell_type": "code",
   "execution_count": 76,
   "metadata": {
    "collapsed": false
   },
   "outputs": [
    {
     "data": {
      "text/plain": [
       "(0.95965416276650861, 0.95812718678058661, 0.96118601363252221)"
      ]
     },
     "execution_count": 76,
     "metadata": {},
     "output_type": "execute_result"
    }
   ],
   "source": [
    "evaluate(x_test_char, y_test, model_conv1d_nn)"
   ]
  },
  {
   "cell_type": "markdown",
   "metadata": {},
   "source": [
    "# GRU\n",
    "\n",
    "Implement your GRU model with the following structure: input -> embedding layer (size 32) -> GRU layer (size 32) -> fully-connected layer (size 100) -> output.\n",
    "\n",
    "\n",
    "These parameters are simple guidelines to save your time. You can play with them in the final section.\n",
    "\n",
    "The result should be better than the feedforward model and at least on par with your CNN model.\n",
    "\n",
    "Do consult keras documentation on how to use [embedding layers](https://keras.io/layers/embeddings/) and [GRUs](https://keras.io/layers/recurrent/).\n"
   ]
  },
  {
   "cell_type": "code",
   "execution_count": 68,
   "metadata": {
    "collapsed": true
   },
   "outputs": [],
   "source": [
    "################################################################################\n",
    "# TODO#8                                                                       #\n",
    "# Write a function that returns keras GRU network moded. You can choose any    #\n",
    "# normalization methods, activation function, as well as any hyperparameter    #\n",
    "# the way you want. Your goal is to predict a score between [0,1] for each     #\n",
    "# input whether it is the beginning of the word or not.                        #\n",
    "#                                                                              #\n",
    "# Hint: You should read keras documentation to see the list of available       #\n",
    "# layers and options you can use.                                              #\n",
    "################################################################################\n",
    "from keras.layers import Input, Embedding, GRU, Dense\n",
    "def get_gru():\n",
    "    input1 = Input(shape=(21,))\n",
    "    x = Embedding(178,32)(input1)\n",
    "    x = GRU(32)(x)\n",
    "    x = Dense(100, activation='relu')(x)\n",
    "    out = Dense(1, activation='sigmoid')(x)\n",
    "    \n",
    "    model = Model(inputs=input1, outputs=out)\n",
    "    model.compile(optimizer=Adam(),\n",
    "                 loss='binary_crossentropy',\n",
    "                 metrics=['acc'])\n",
    "    return model"
   ]
  },
  {
   "cell_type": "code",
   "execution_count": 69,
   "metadata": {
    "collapsed": false
   },
   "outputs": [
    {
     "name": "stdout",
     "output_type": "stream",
     "text": [
      "start training conv1d\n",
      "Train on 16461637 samples, validate on 2035694 samples\n",
      "Epoch 1/3\n",
      "Epoch 00000: val_loss improved from inf to 0.21425, saving model to /data/model_gru.h5\n",
      "204s - loss: 0.2610 - acc: 0.8824 - val_loss: 0.2142 - val_acc: 0.9078\n",
      "Epoch 2/3\n",
      "Epoch 00001: val_loss improved from 0.21425 to 0.18208, saving model to /data/model_gru.h5\n",
      "203s - loss: 0.2008 - acc: 0.9138 - val_loss: 0.1821 - val_acc: 0.9248\n",
      "Epoch 3/3\n",
      "Epoch 00002: val_loss improved from 0.18208 to 0.14269, saving model to /data/model_gru.h5\n",
      "201s - loss: 0.1646 - acc: 0.9334 - val_loss: 0.1427 - val_acc: 0.9450\n"
     ]
    },
    {
     "data": {
      "text/plain": [
       "<keras.callbacks.History at 0x7f096ab69f28>"
      ]
     },
     "execution_count": 69,
     "metadata": {},
     "output_type": "execute_result"
    }
   ],
   "source": [
    "# import keras.backend as K\n",
    "# K.clear_session()\n",
    "################################################################################\n",
    "# TODO#9                                                                       #\n",
    "# Write code that call model.fit, or model.fit_generator if you have data      #\n",
    "# generator, to train you models. Make sure you have validation_data as an     # \n",
    "# argument and use verbose=2 to generate one log line per epoch. Select your   #\n",
    "# batch size carefully as it will affect your model's ability to converge and  #\n",
    "# time needed for one epoch.                                                   #\n",
    "################################################################################\n",
    "print('start training conv1d')\n",
    "model_gru = get_gru()\n",
    "################################################################################\n",
    "#                            WRITE YOUR CODE BELOW                             #\n",
    "################################################################################\n",
    "from keras.callbacks import TensorBoard, ModelCheckpoint\n",
    "\n",
    "weight_path_model_gru='/data/model_gru.h5'\n",
    "\n",
    "callbacks_list_model_gru = [\n",
    "   # TensorBoard(log_dir='/data/Graph/gru', histogram_freq=1, write_graph=True, write_grads=True),\n",
    "    ModelCheckpoint(\n",
    "        weight_path_model_gru,\n",
    "        monitor = \"val_loss\",\n",
    "        mode = 'min',\n",
    "        verbose = 1,\n",
    "        save_best_only = True,\n",
    "        save_weights_only = True,\n",
    "    )   \n",
    "]\n",
    "\n",
    "model_gru.fit(x_train_char,y_train,batch_size=4096, epochs=3, verbose=2,\n",
    "             callbacks=callbacks_list_model_gru, validation_data=(x_val_char,y_val))"
   ]
  },
  {
   "cell_type": "code",
   "execution_count": 70,
   "metadata": {
    "collapsed": false
   },
   "outputs": [
    {
     "data": {
      "text/plain": [
       "(0.90748891906827178, 0.88370425587967616, 0.93258931039657533)"
      ]
     },
     "execution_count": 70,
     "metadata": {},
     "output_type": "execute_result"
    }
   ],
   "source": [
    "evaluate(x_test_char, y_test, model_gru)"
   ]
  },
  {
   "cell_type": "markdown",
   "metadata": {},
   "source": [
    "# Final Section\n",
    "# Keras playground\n",
    "\n",
    "Now, train the best model you can do for this task. You can use any model structure and function available. Remember that trainig time increases with the complexity of the model. You might find TensorBoard helpful in tuning of complicated models.\n",
    "\n",
    "Your model should be better than your CNN or GRU model in the previous sections.\n",
    "\n",
    "Some ideas to try\n",
    "1. Tune the parameters\n",
    "2. Bi-directional GRU\n",
    "3. CNN-GRU model"
   ]
  },
  {
   "cell_type": "code",
   "execution_count": 91,
   "metadata": {
    "collapsed": false
   },
   "outputs": [],
   "source": [
    "################################################################################\n",
    "# TODO#10                                                                      #\n",
    "# Write a function that returns keras your best model. You can use anything    #\n",
    "# you want. The goal here is to create the best model you can think of.        #\n",
    "# Your model should get f-score more than 97% from calling evaluate().         #\n",
    "#                                                                              #\n",
    "# Hint: You should read keras documentation to see the list of available       #\n",
    "# layers and options you can use.                                              #\n",
    "################################################################################\n",
    "from keras.models import Model\n",
    "from keras.layers import Embedding,Dense, Conv1D, Flatten, TimeDistributed\n",
    "from keras.layers import Input, GRU, Bidirectional\n",
    "\n",
    "def get_my_best_model():\n",
    "    input1 = Input(shape=(21,))\n",
    "    x = Embedding(178,32)(input1)\n",
    "    x = Conv1D(100,9,strides=1,activation='relu',padding=\"same\")(x)\n",
    "    x = TimeDistributed(Dense(9))(x)\n",
    "    x = Flatten()(x)\n",
    "    x = Dense(100, activation='relu')(x)\n",
    "    out = Dense(1, activation='sigmoid')(x)\n",
    "    model = Model(inputs=input1, outputs=out)\n",
    "    model.compile(optimizer=Adam(),\n",
    "                 loss='binary_crossentropy',\n",
    "                 metrics=['acc'])          \n",
    "    return model\n",
    "    \n",
    "\n",
    "def get_bi_gru():\n",
    "    input1 = Input(shape=(21,))   \n",
    "    x = Embedding(178,32)(input1)\n",
    "    x = Bidirectional(GRU(32))(x)\n",
    "    x = Dense(100, activation='relu')(x)\n",
    "    out = Dense(1, activation='sigmoid')(x)\n",
    "    model = Model(inputs=input1, outputs=out)\n",
    "    model.compile(optimizer=Adam(),\n",
    "                 loss='binary_crossentropy',\n",
    "                 metrics=['acc'])          \n",
    "    return model\n",
    "\n",
    "def get_cnn_gru():\n",
    "    input1 = Input(shape=(21,))  \n",
    "    x = Embedding(178,16)(input1)\n",
    "    x = Conv1D(100,7,strides=1,activation='sigmoid',padding=\"same\")(x)\n",
    "    x = TimeDistributed(Dense(5))(x)\n",
    "#     x = Flatten()(x)\n",
    "    x = GRU(16)(x)\n",
    "    x = Dense(100, activation='relu')(x)\n",
    "    out = Dense(1, activation='sigmoid')(x)    \n",
    "    \n",
    "    \n",
    "    model = Model(inputs=input1, outputs=out)\n",
    "    model.compile(optimizer=Adam(),\n",
    "                 loss='binary_crossentropy',\n",
    "                 metrics=['acc'])    \n",
    "    return model"
   ]
  },
  {
   "cell_type": "code",
   "execution_count": 63,
   "metadata": {
    "collapsed": false
   },
   "outputs": [
    {
     "name": "stdout",
     "output_type": "stream",
     "text": [
      "start training best\n",
      "Train on 16461637 samples, validate on 2035694 samples\n",
      "Epoch 1/3\n",
      "Epoch 00000: val_loss improved from inf to 0.07530, saving model to /data/model_best.h5\n",
      "129s - loss: 0.1060 - acc: 0.9578 - val_loss: 0.0753 - val_acc: 0.9717\n",
      "Epoch 2/3\n",
      "Epoch 00001: val_loss improved from 0.07530 to 0.06467, saving model to /data/model_best.h5\n",
      "127s - loss: 0.0641 - acc: 0.9760 - val_loss: 0.0647 - val_acc: 0.9760\n",
      "Epoch 3/3\n",
      "Epoch 00002: val_loss improved from 0.06467 to 0.06036, saving model to /data/model_best.h5\n",
      "127s - loss: 0.0560 - acc: 0.9794 - val_loss: 0.0604 - val_acc: 0.9777\n"
     ]
    },
    {
     "data": {
      "text/plain": [
       "<keras.callbacks.History at 0x7f096b4b27b8>"
      ]
     },
     "execution_count": 63,
     "metadata": {},
     "output_type": "execute_result"
    }
   ],
   "source": [
    "# import keras.backend as K\n",
    "# K.clear_session()\n",
    "################################################################################\n",
    "# TODO#11                                                                      #\n",
    "# Write code that call model.fit, or model.fit_generator if you have data      #\n",
    "# generator, to train you models. Make sure you have validation_data as an     # \n",
    "# argument and use verbose=2 to generate one log line per epoch. Select your   #\n",
    "# batch size carefully as it will affect your model's ability to converge and  #\n",
    "# time needed for one epoch.                                                   #\n",
    "#                                                                              #\n",
    "# Hint: Read about callbacks_list argument on the documentation. You might     #\n",
    "# find  ReduceLROnPlateau() and ModelCheckpoint() useful for your training     #\n",
    "# process. Feel free to use any other callback function available.             #\n",
    "################################################################################\n",
    "print('start training best')\n",
    "my_best_model = get_my_best_model()\n",
    "################################################################################\n",
    "#                            WRITE YOUR CODE BELOW                             #\n",
    "################################################################################\n",
    "\n",
    "from keras.callbacks import TensorBoard, ModelCheckpoint\n",
    "\n",
    "weight_path_model_best='/data/model_best.h5'\n",
    "\n",
    "callbacks_list_model_best = [\n",
    "#    TensorBoard(log_dir='/data/Graph/best', histogram_freq=1, write_grads=True),\n",
    "    ModelCheckpoint(\n",
    "        weight_path_model_best,\n",
    "        monitor = \"val_loss\",\n",
    "        mode = 'min',\n",
    "        verbose = 1,\n",
    "        save_best_only = True,\n",
    "        save_weights_only = True,\n",
    "    )   \n",
    "]\n",
    "\n",
    "my_best_model.fit(x_train_char,y_train,batch_size=4096, epochs=3, verbose=2,\n",
    "             callbacks=callbacks_list_model_best, validation_data=(x_val_char,y_val))"
   ]
  },
  {
   "cell_type": "code",
   "execution_count": 60,
   "metadata": {
    "collapsed": false
   },
   "outputs": [
    {
     "name": "stdout",
     "output_type": "stream",
     "text": [
      "start training best\n",
      "Train on 16461637 samples, validate on 2035694 samples\n",
      "Epoch 1/3\n",
      "Epoch 00000: val_loss improved from inf to 0.09697, saving model to /data/model_bgru.h5\n",
      "384s - loss: 0.1602 - acc: 0.9325 - val_loss: 0.0970 - val_acc: 0.9622\n",
      "Epoch 2/3\n",
      "Epoch 00001: val_loss improved from 0.09697 to 0.08224, saving model to /data/model_bgru.h5\n",
      "383s - loss: 0.0863 - acc: 0.9664 - val_loss: 0.0822 - val_acc: 0.9683\n",
      "Epoch 3/3\n",
      "Epoch 00002: val_loss improved from 0.08224 to 0.07362, saving model to /data/model_bgru.h5\n",
      "383s - loss: 0.0743 - acc: 0.9715 - val_loss: 0.0736 - val_acc: 0.9721\n"
     ]
    },
    {
     "data": {
      "text/plain": [
       "<keras.callbacks.History at 0x7f098dc44358>"
      ]
     },
     "execution_count": 60,
     "metadata": {},
     "output_type": "execute_result"
    }
   ],
   "source": [
    "from keras.callbacks import TensorBoard, ModelCheckpoint\n",
    "# import keras.backend as K\n",
    "# K.clear_session()\n",
    "\n",
    "print('start training best')\n",
    "bi_gru = get_bi_gru()\n",
    "\n",
    "weight_path_model_best='/data/model_bgru.h5'\n",
    "\n",
    "callbacks_list_bi_gru = [\n",
    "#    TensorBoard(log_dir='/data/Graph/bgru', histogram_freq=1, write_grads=True),\n",
    "    ModelCheckpoint(\n",
    "        weight_path_model_best,\n",
    "        monitor = \"val_loss\",\n",
    "        mode = 'min',\n",
    "        verbose = 1,\n",
    "        save_best_only = True,\n",
    "        save_weights_only = True,\n",
    "    )   \n",
    "]\n",
    "\n",
    "bi_gru.fit(x_train_char,y_train,batch_size=4096, epochs=3, verbose=2,\n",
    "             callbacks=callbacks_list_bi_gru, validation_data=(x_val_char,y_val))"
   ]
  },
  {
   "cell_type": "code",
   "execution_count": 27,
   "metadata": {
    "collapsed": false
   },
   "outputs": [
    {
     "name": "stdout",
     "output_type": "stream",
     "text": [
      "_________________________________________________________________\n",
      "Layer (type)                 Output Shape              Param #   \n",
      "=================================================================\n",
      "input_8 (InputLayer)         (None, 21)                0         \n",
      "_________________________________________________________________\n",
      "embedding_6 (Embedding)      (None, 21, 32)            5696      \n",
      "_________________________________________________________________\n",
      "bidirectional_6 (Bidirection (None, 64)                12480     \n",
      "_________________________________________________________________\n",
      "dense_11 (Dense)             (None, 100)               6500      \n",
      "_________________________________________________________________\n",
      "dense_12 (Dense)             (None, 1)                 101       \n",
      "=================================================================\n",
      "Total params: 24,777\n",
      "Trainable params: 24,777\n",
      "Non-trainable params: 0\n",
      "_________________________________________________________________\n"
     ]
    }
   ],
   "source": [
    "################################################################################\n",
    "# In case you want to close the session, you can re-load the model by          #\n",
    "################################################################################\n",
    "weight_path_model_best='/data/model_bgru.h5'\n",
    "bi_gru = get_bi_gru()\n",
    "bi_gru.load_weights(weight_path_model_best)\n",
    "bi_gru._make_predict_function()\n",
    "bi_gru.summary()"
   ]
  },
  {
   "cell_type": "code",
   "execution_count": 52,
   "metadata": {
    "collapsed": false
   },
   "outputs": [
    {
     "name": "stdout",
     "output_type": "stream",
     "text": [
      "start training best\n",
      "Train on 16461637 samples, validate on 2035694 samples\n",
      "Epoch 1/3\n",
      "Epoch 00000: val_loss improved from inf to 0.09899, saving model to /data/model_cnn-gru.h5\n",
      "271s - loss: 0.1917 - acc: 0.9172 - val_loss: 0.0990 - val_acc: 0.9620\n",
      "Epoch 2/3\n",
      "Epoch 00001: val_loss improved from 0.09899 to 0.07990, saving model to /data/model_cnn-gru.h5\n",
      "272s - loss: 0.0847 - acc: 0.9676 - val_loss: 0.0799 - val_acc: 0.9697\n",
      "Epoch 3/3\n",
      "Epoch 00002: val_loss improved from 0.07990 to 0.07381, saving model to /data/model_cnn-gru.h5\n",
      "272s - loss: 0.0735 - acc: 0.9723 - val_loss: 0.0738 - val_acc: 0.9725\n"
     ]
    },
    {
     "data": {
      "text/plain": [
       "<keras.callbacks.History at 0x7f098e0bed30>"
      ]
     },
     "execution_count": 52,
     "metadata": {},
     "output_type": "execute_result"
    }
   ],
   "source": [
    "import keras.backend as K\n",
    "K.clear_session()\n",
    "\n",
    "print('start training best')\n",
    "cnn_gru = get_cnn_gru()\n",
    "\n",
    "from keras.callbacks import TensorBoard, ModelCheckpoint\n",
    "\n",
    "weight_path_model_best='/data/model_cnn-gru.h5'\n",
    "\n",
    "callbacks_list_model_best = [\n",
    "#    TensorBoard(log_dir='/data/Graph/cnn-gru', histogram_freq=1, write_grads=True),\n",
    "    ModelCheckpoint(\n",
    "        weight_path_model_best,\n",
    "        monitor = \"val_loss\",\n",
    "        mode = 'min',\n",
    "        verbose = 1,\n",
    "        save_best_only = True,\n",
    "        save_weights_only = True,\n",
    "    )   \n",
    "]\n",
    "\n",
    "cnn_gru.fit(x_train_char,y_train,batch_size=4096, epochs=3, verbose=2,\n",
    "             callbacks=callbacks_list_model_best, validation_data=(x_val_char,y_val))"
   ]
  },
  {
   "cell_type": "code",
   "execution_count": 64,
   "metadata": {
    "collapsed": false
   },
   "outputs": [
    {
     "data": {
      "text/plain": [
       "(0.96373934377985204, 0.96014010463947674, 0.96736566910725141)"
      ]
     },
     "execution_count": 64,
     "metadata": {},
     "output_type": "execute_result"
    }
   ],
   "source": [
    "# Parameter\n",
    "evaluate(x_test_char, y_test, my_best_model)"
   ]
  },
  {
   "cell_type": "code",
   "execution_count": 61,
   "metadata": {
    "collapsed": false
   },
   "outputs": [
    {
     "data": {
      "text/plain": [
       "(0.95401187962481437, 0.94607021528108948, 0.96208800322251975)"
      ]
     },
     "execution_count": 61,
     "metadata": {},
     "output_type": "execute_result"
    }
   ],
   "source": [
    "# Bi-GRU\n",
    "evaluate(x_test_char, y_test, bi_gru)"
   ]
  },
  {
   "cell_type": "code",
   "execution_count": 54,
   "metadata": {
    "collapsed": false
   },
   "outputs": [
    {
     "data": {
      "text/plain": [
       "(0.95496516623311223, 0.9426805507247269, 0.96757418508952764)"
      ]
     },
     "execution_count": 54,
     "metadata": {},
     "output_type": "execute_result"
    }
   ],
   "source": [
    "# CNN-GRU\n",
    "evaluate(x_test_char, y_test, cnn_gru)"
   ]
  },
  {
   "cell_type": "code",
   "execution_count": null,
   "metadata": {
    "collapsed": true
   },
   "outputs": [],
   "source": []
  }
 ],
 "metadata": {
  "kernelspec": {
   "display_name": "Python 3",
   "language": "python",
   "name": "python3"
  },
  "language_info": {
   "codemirror_mode": {
    "name": "ipython",
    "version": 3
   },
   "file_extension": ".py",
   "mimetype": "text/x-python",
   "name": "python",
   "nbconvert_exporter": "python",
   "pygments_lexer": "ipython3",
   "version": "3.5.2"
  }
 },
 "nbformat": 4,
 "nbformat_minor": 2
}
